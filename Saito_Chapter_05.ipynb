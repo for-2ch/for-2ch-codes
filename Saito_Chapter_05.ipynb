{
 "cells": [
  {
   "cell_type": "markdown",
   "metadata": {},
   "source": [
    "p.148 (5.13)"
   ]
  },
  {
   "cell_type": "markdown",
   "metadata": {},
   "source": [
    "$$\n",
    "\\begin{eqnarray}\n",
    "x_1 w_{11} + x_2 w_{12} + b_1 &=& y_1 \\\\\n",
    "x_1 w_{21} + x_2 w_{22} + b_2 &=& y_2 \\\\\n",
    "x_1 w_{31} + x_2 w_{32} + b_3 &=& y_3 \\\\\n",
    "\\end{eqnarray}\n",
    "$$"
   ]
  },
  {
   "cell_type": "markdown",
   "metadata": {},
   "source": [
    "$$\n",
    "\\begin{eqnarray}\n",
    "\\frac{\\partial L}{\\partial x_i}\n",
    "&=&\n",
    "\\frac{\\partial L}{\\partial y_1} \\frac{\\partial y_1}{\\partial x_i} +\n",
    "\\frac{\\partial L}{\\partial y_2} \\frac{\\partial y_2}{\\partial x_i} +\n",
    "\\frac{\\partial L}{\\partial y_3} \\frac{\\partial y_3}{\\partial x_i} \\\\\n",
    "&=&\n",
    "\\frac{\\partial L}{\\partial y_1} w_{1i} +\n",
    "\\frac{\\partial L}{\\partial y_2} w_{2i} +\n",
    "\\frac{\\partial L}{\\partial y_3} w_{3i} \\\\\n",
    "\\end{eqnarray}\n",
    "$$"
   ]
  },
  {
   "cell_type": "markdown",
   "metadata": {},
   "source": [
    "$$\n",
    "\\begin{equation}\n",
    "\\begin{pmatrix}\n",
    "\\frac{\\partial L}{\\partial x_1} & \\frac{\\partial L}{\\partial x_2} \\\\\n",
    "\\end{pmatrix}\n",
    "=\n",
    "\\begin{pmatrix}\n",
    "\\frac{\\partial L}{\\partial y_1} & \\frac{\\partial L}{\\partial y_2} & \\frac{\\partial L}{\\partial y_3} \\\\\n",
    "\\end{pmatrix}\n",
    "\\begin{pmatrix}\n",
    "w_{11} & w_{12} \\\\\n",
    "w_{21} & w_{22} \\\\\n",
    "w_{31} & w_{32} \\\\\n",
    "\\end{pmatrix}\n",
    "\\end{equation}\n",
    "$$"
   ]
  },
  {
   "cell_type": "markdown",
   "metadata": {},
   "source": [
    "$$\n",
    "\\begin{eqnarray}\n",
    "\\frac{\\partial L}{\\partial w_{ij}}\n",
    "&=&\n",
    "\\frac{\\partial L}{\\partial y_1} \\frac{\\partial y_1}{\\partial w_{ij}} +\n",
    "\\frac{\\partial L}{\\partial y_2} \\frac{\\partial y_2}{\\partial w_{ij}} +\n",
    "\\frac{\\partial L}{\\partial y_3} \\frac{\\partial y_3}{\\partial w_{ij}} \\\\\n",
    "&=&\n",
    "\\frac{\\partial L}{\\partial y_i} \\frac{\\partial y_i}{\\partial w_{ij}}\n",
    "=\n",
    "\\frac{\\partial L}{\\partial y_i} x_j\n",
    "=\n",
    "x_j \\frac{\\partial L}{\\partial y_i} \\\\\n",
    "\\end{eqnarray}\n",
    "$$"
   ]
  },
  {
   "cell_type": "markdown",
   "metadata": {},
   "source": [
    "$$\n",
    "\\begin{equation}\n",
    "\\begin{pmatrix}\n",
    "\\frac{\\partial L}{\\partial w_{11}} & \\frac{\\partial L}{\\partial w_{21}} & \\frac{\\partial L}{\\partial w_{31}} \\\\\n",
    "\\frac{\\partial L}{\\partial w_{12}} & \\frac{\\partial L}{\\partial w_{22}} & \\frac{\\partial L}{\\partial w_{32}} \\\\\n",
    "\\end{pmatrix}\n",
    "=\n",
    "\\begin{pmatrix}\n",
    "x_1 \\\\\n",
    "x_2 \\\\\n",
    "\\end{pmatrix}\n",
    "\\begin{pmatrix}\n",
    "\\frac{\\partial L}{\\partial y_1} & \\frac{\\partial L}{\\partial y_2} & \\frac{\\partial L}{\\partial y_3} \\\\\n",
    "\\end{pmatrix}\n",
    "\\end{equation}\n",
    "$$"
   ]
  },
  {
   "cell_type": "markdown",
   "metadata": {},
   "source": [
    "p.150 5.6.2 バッチ版Affineレイヤ"
   ]
  },
  {
   "cell_type": "markdown",
   "metadata": {},
   "source": [
    "$$\n",
    "\\begin{eqnarray}\n",
    "x_1 w_{11} + x_2 w_{12} + b_1 &=& y_1 \\\\\n",
    "x_1 w_{21} + x_2 w_{22} + b_2 &=& y_2 \\\\\n",
    "x_1 w_{31} + x_2 w_{32} + b_3 &=& y_3 \\\\\n",
    "x^{'}_1 w_{11} + x^{'}_2 w_{12} + b_1 &=& y^{'}_1 \\\\\n",
    "x^{'}_1 w_{21} + x^{'}_2 w_{22} + b_2 &=& y^{'}_2 \\\\\n",
    "x^{'}_1 w_{31} + x^{'}_2 w_{32} + b_3 &=& y^{'}_3 \\\\\n",
    "\\end{eqnarray}\n",
    "$$"
   ]
  },
  {
   "cell_type": "markdown",
   "metadata": {},
   "source": [
    "$$\n",
    "\\begin{equation}\n",
    "\\begin{pmatrix}\n",
    "\\frac{\\partial L}{\\partial x_1} & \\frac{\\partial L}{\\partial x_2} \\\\\n",
    "\\frac{\\partial L}{\\partial x^{'}_1} & \\frac{\\partial L}{\\partial x^{'}_2} \\\\\n",
    "\\end{pmatrix}\n",
    "=\n",
    "\\begin{pmatrix}\n",
    "\\frac{\\partial L}{\\partial y_1} & \\frac{\\partial L}{\\partial y_2} & \\frac{\\partial L}{\\partial y_3} \\\\\n",
    "\\frac{\\partial L}{\\partial y^{'}_1} & \\frac{\\partial L}{\\partial y^{'}_2} & \\frac{\\partial L}{\\partial y^{'}_3} \\\\\n",
    "\\end{pmatrix}\n",
    "\\begin{pmatrix}\n",
    "w_{11} & w_{12} \\\\\n",
    "w_{21} & w_{22} \\\\\n",
    "w_{31} & w_{32} \\\\\n",
    "\\end{pmatrix}\n",
    "\\end{equation}\n",
    "$$"
   ]
  },
  {
   "cell_type": "markdown",
   "metadata": {},
   "source": [
    "$$\n",
    "\\begin{eqnarray}\n",
    "\\frac{\\partial L}{\\partial w_{ij}}\n",
    "&=&\n",
    "\\frac{\\partial L}{\\partial y_1} \\frac{\\partial y_1}{\\partial w_{ij}} +\n",
    "\\frac{\\partial L}{\\partial y_2} \\frac{\\partial y_2}{\\partial w_{ij}} +\n",
    "\\frac{\\partial L}{\\partial y_3} \\frac{\\partial y_3}{\\partial w_{ij}} +\n",
    "\\frac{\\partial L}{\\partial y^{'}_1} \\frac{\\partial y^{'}_1}{\\partial w_{ij}} +\n",
    "\\frac{\\partial L}{\\partial y^{'}_2} \\frac{\\partial y^{'}_2}{\\partial w_{ij}} +\n",
    "\\frac{\\partial L}{\\partial y^{'}_3} \\frac{\\partial y^{'}_3}{\\partial w_{ij}} \\\\\n",
    "&=&\n",
    "\\frac{\\partial L}{\\partial y_i} \\frac{\\partial y_i}{\\partial w_{ij}} +\n",
    "\\frac{\\partial L}{\\partial y^{'}_i} \\frac{\\partial y^{'}_i}{\\partial w_{ij}}\n",
    "=\n",
    "\\frac{\\partial L}{\\partial y_i} x_j +\n",
    "\\frac{\\partial L}{\\partial y^{'}_i} x^{'}_j\n",
    "=\n",
    "x_j \\frac{\\partial L}{\\partial y_i} + x^{'}_j \\frac{\\partial L}{\\partial y^{'}_i}\n",
    "\\\\\n",
    "\\end{eqnarray}\n",
    "$$"
   ]
  },
  {
   "cell_type": "markdown",
   "metadata": {},
   "source": [
    "$$\n",
    "\\begin{equation}\n",
    "\\begin{pmatrix}\n",
    "\\frac{\\partial L}{\\partial w_{11}} & \\frac{\\partial L}{\\partial w_{21}} & \\frac{\\partial L}{\\partial w_{31}} \\\\\n",
    "\\frac{\\partial L}{\\partial w_{12}} & \\frac{\\partial L}{\\partial w_{22}} & \\frac{\\partial L}{\\partial w_{32}} \\\\\n",
    "\\end{pmatrix}\n",
    "=\n",
    "\\begin{pmatrix}\n",
    "x_1 & x^{'}_1 \\\\\n",
    "x_2 & x^{'}_2 \\\\\n",
    "\\end{pmatrix}\n",
    "\\begin{pmatrix}\n",
    "\\frac{\\partial L}{\\partial y_1} & \\frac{\\partial L}{\\partial y_2} & \\frac{\\partial L}{\\partial y_3} \\\\\n",
    "\\frac{\\partial L}{\\partial y^{'}_1} & \\frac{\\partial L}{\\partial y^{'}_2} & \\frac{\\partial L}{\\partial y^{'}_3} \\\\\n",
    "\\end{pmatrix}\n",
    "\\end{equation}\n",
    "$$"
   ]
  },
  {
   "cell_type": "markdown",
   "metadata": {},
   "source": [
    "$$\n",
    "\\begin{eqnarray}\n",
    "\\frac{\\partial L}{\\partial b_i}\n",
    "&=&\n",
    "\\frac{\\partial L}{\\partial y_1} \\frac{\\partial y_1}{\\partial b_i} +\n",
    "\\frac{\\partial L}{\\partial y_2} \\frac{\\partial y_2}{\\partial b_i} +\n",
    "\\frac{\\partial L}{\\partial y_3} \\frac{\\partial y_3}{\\partial b_i} +\n",
    "\\frac{\\partial L}{\\partial y^{'}_1} \\frac{\\partial y^{'}_1}{\\partial b_i} +\n",
    "\\frac{\\partial L}{\\partial y^{'}_2} \\frac{\\partial y^{'}_2}{\\partial b_i} +\n",
    "\\frac{\\partial L}{\\partial y^{'}_3} \\frac{\\partial y^{'}_3}{\\partial b_i} \\\\\n",
    "&=&\n",
    "\\frac{\\partial L}{\\partial y_i} \\frac{\\partial y_i}{\\partial b_i} +\n",
    "\\frac{\\partial L}{\\partial y^{'}_i} \\frac{\\partial y^{'}_i}{\\partial b_i}\n",
    "=\n",
    "\\frac{\\partial L}{\\partial y_i} +\n",
    "\\frac{\\partial L}{\\partial y^{'}_i} \\\\\n",
    "\\end{eqnarray}\n",
    "$$"
   ]
  },
  {
   "cell_type": "markdown",
   "metadata": {},
   "source": [
    "$$\n",
    "\\begin{equation}\n",
    "\\begin{pmatrix}\n",
    "\\frac{\\partial L}{\\partial b_1} & \\frac{\\partial L}{\\partial b_2} & \\frac{\\partial L}{\\partial b_3} \\\\\n",
    "\\end{pmatrix}\n",
    "=\n",
    "\\begin{pmatrix}\n",
    "\\frac{\\partial L}{\\partial y_1} + \\frac{\\partial L}{\\partial y^{'}_1} &\n",
    "\\frac{\\partial L}{\\partial y_2} + \\frac{\\partial L}{\\partial y^{'}_2} &\n",
    "\\frac{\\partial L}{\\partial y_3} + \\frac{\\partial L}{\\partial y^{'}_3} \\\\\n",
    "\\end{pmatrix}\n",
    "\\end{equation}\n",
    "$$"
   ]
  }
 ],
 "metadata": {
  "kernelspec": {
   "display_name": "Python 3",
   "language": "python",
   "name": "python3"
  },
  "language_info": {
   "codemirror_mode": {
    "name": "ipython",
    "version": 3
   },
   "file_extension": ".py",
   "mimetype": "text/x-python",
   "name": "python",
   "nbconvert_exporter": "python",
   "pygments_lexer": "ipython3",
   "version": "3.6.3"
  }
 },
 "nbformat": 4,
 "nbformat_minor": 2
}
